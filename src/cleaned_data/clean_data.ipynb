{
 "cells": [
  {
   "cell_type": "code",
   "execution_count": 1,
   "id": "90495644-e637-498d-8cfa-229bcbf25605",
   "metadata": {},
   "outputs": [
    {
     "name": "stdout",
     "output_type": "stream",
     "text": [
      "✅ Saved 10000 abstracts for year 2020 → ./../../data/cleaned/cleaned_abstracts_2020.json\n",
      "✅ Saved 2810 abstracts for year 2017 → ./../../data/cleaned/cleaned_abstracts_2017.json\n",
      "✅ Saved 543 abstracts for year 2016 → ./../../data/cleaned/cleaned_abstracts_2016.json\n",
      "✅ Saved 6102 abstracts for year 2018 → ./../../data/cleaned/cleaned_abstracts_2018.json\n",
      "✅ Saved 241 abstracts for year 2015 → ./../../data/cleaned/cleaned_abstracts_2015.json\n",
      "✅ Saved 121 abstracts for year 2014 → ./../../data/cleaned/cleaned_abstracts_2014.json\n",
      "✅ Saved 66 abstracts for year 2013 → ./../../data/cleaned/cleaned_abstracts_2013.json\n",
      "✅ Saved 10000 abstracts for year 2019 → ./../../data/cleaned/cleaned_abstracts_2019.json\n",
      "✅ Saved 800 abstracts for year 2025 → ./../../data/cleaned/cleaned_abstracts_2025.json\n",
      "✅ Saved 6624 abstracts for year 2023 → ./../../data/cleaned/cleaned_abstracts_2023.json\n",
      "✅ Saved 1 abstracts for year 2012 → ./../../data/cleaned/cleaned_abstracts_2012.json\n",
      "✅ Saved 55 abstracts for year 2021 → ./../../data/cleaned/cleaned_abstracts_2021.json\n"
     ]
    }
   ],
   "source": [
    "import json\n",
    "import os\n",
    "from collections import defaultdict\n",
    "\n",
    "# Path input dan folder output\n",
    "raw_path = './../../data/raw/raw_daataset.json'\n",
    "output_dir = './../../data/cleaned/'\n",
    "\n",
    "# Pastikan folder output ada\n",
    "os.makedirs(output_dir, exist_ok=True)\n",
    "\n",
    "# Baca file mentah\n",
    "with open(raw_path, 'r', encoding='utf-8') as f:\n",
    "    data = json.load(f)\n",
    "\n",
    "# Kelompokkan berdasarkan tahun\n",
    "data_per_year = defaultdict(list)\n",
    "\n",
    "for entry in data:\n",
    "    year = entry.get('year', '').strip()\n",
    "    abstract = entry.get('abstract', '').strip()\n",
    "    if year and abstract:\n",
    "        data_per_year[year].append({\n",
    "            \"year\": year,\n",
    "            \"abstract\": abstract\n",
    "        })\n",
    "\n",
    "# Simpan setiap tahun ke file terpisah\n",
    "for year, docs in data_per_year.items():\n",
    "    output_path = os.path.join(output_dir, f'cleaned_abstracts_{year}.json')\n",
    "    with open(output_path, 'w', encoding='utf-8') as f:\n",
    "        json.dump(docs, f, ensure_ascii=False, indent=2)\n",
    "    print(f\"✅ Saved {len(docs)} abstracts for year {year} → {output_path}\")\n"
   ]
  },
  {
   "cell_type": "code",
   "execution_count": null,
   "id": "0a7d31ed-955a-48ac-b637-fd7c0d436d1e",
   "metadata": {},
   "outputs": [],
   "source": []
  }
 ],
 "metadata": {
  "kernelspec": {
   "display_name": "Python 3 (ipykernel)",
   "language": "python",
   "name": "python3"
  },
  "language_info": {
   "codemirror_mode": {
    "name": "ipython",
    "version": 3
   },
   "file_extension": ".py",
   "mimetype": "text/x-python",
   "name": "python",
   "nbconvert_exporter": "python",
   "pygments_lexer": "ipython3",
   "version": "3.8.10"
  }
 },
 "nbformat": 4,
 "nbformat_minor": 5
}
