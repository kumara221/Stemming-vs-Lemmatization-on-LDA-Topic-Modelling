{
 "cells": [
  {
   "cell_type": "code",
   "execution_count": 28,
   "id": "ff61e472",
   "metadata": {},
   "outputs": [],
   "source": [
    "import json\n",
    "import os\n",
    "import re\n",
    "import string\n",
    "import time\n",
    "from collections import defaultdict\n",
    "import nltk\n",
    "from nltk.corpus import stopwords\n",
    "from nltk.tokenize import word_tokenize\n",
    "import spacy\n",
    "from pathlib import Path\n",
    "from spacy.lang.en.stop_words import STOP_WORDS"
   ]
  },
  {
   "cell_type": "code",
   "execution_count": 29,
   "id": "810600b8-6aa8-4b8c-8bd5-917376e909ab",
   "metadata": {},
   "outputs": [
    {
     "name": "stdout",
     "output_type": "stream",
     "text": [
      "⚠️ GPU tidak tersedia. Menggunakan CPU.\n"
     ]
    }
   ],
   "source": [
    "try:\n",
    "    spacy.require_gpu()\n",
    "    print(\"✅ GPU digunakan.\")\n",
    "except Exception as e:\n",
    "    print(\"⚠️ GPU tidak tersedia. Menggunakan CPU.\")"
   ]
  },
  {
   "cell_type": "code",
   "execution_count": 30,
   "id": "62fbb8fa-bfe0-4558-a40b-20257733707b",
   "metadata": {},
   "outputs": [
    {
     "name": "stderr",
     "output_type": "stream",
     "text": [
      "[nltk_data] Downloading package punkt_tab to Stemming-vs-\n",
      "[nltk_data]     Lemmatization-on-LDA-Topic-\n",
      "[nltk_data]     Modelling/envtextminning/lib/python3.10/site-\n",
      "[nltk_data]     packages/nltk_data...\n",
      "[nltk_data]   Package punkt_tab is already up-to-date!\n",
      "[nltk_data] Downloading package stopwords to Stemming-vs-\n",
      "[nltk_data]     Lemmatization-on-LDA-Topic-\n",
      "[nltk_data]     Modelling/envtextminning/lib/python3.10/site-\n",
      "[nltk_data]     packages/nltk_data...\n",
      "[nltk_data]   Package stopwords is already up-to-date!\n"
     ]
    },
    {
     "data": {
      "text/plain": [
       "True"
      ]
     },
     "execution_count": 30,
     "metadata": {},
     "output_type": "execute_result"
    }
   ],
   "source": [
    "import nltk\n",
    "from nltk.tokenize import word_tokenize\n",
    "\n",
    "# Tambahkan path ke resource lokal\n",
    "nltk.data.path.append('Stemming-vs-Lemmatization-on-LDA-Topic-Modelling/envtextminning/lib/python3.10/site-packages/nltk_data')\n",
    "\n",
    "# Download jika belum tersedia\n",
    "nltk.download('punkt_tab', download_dir='Stemming-vs-Lemmatization-on-LDA-Topic-Modelling/envtextminning/lib/python3.10/site-packages/nltk_data')\n",
    "nltk.download('stopwords', download_dir='Stemming-vs-Lemmatization-on-LDA-Topic-Modelling/envtextminning/lib/python3.10/site-packages/nltk_data')\n",
    "\n"
   ]
  },
  {
   "cell_type": "code",
   "execution_count": 31,
   "id": "0b81d114",
   "metadata": {},
   "outputs": [],
   "source": [
    "# Load model SpaCy\n",
    "nlp = spacy.load(\"en_core_web_sm\")\n",
    "stop_words = set(STOP_WORDS)"
   ]
  },
  {
   "cell_type": "code",
   "execution_count": 32,
   "id": "ba3eac06",
   "metadata": {},
   "outputs": [],
   "source": [
    "def basic_preprocess(text):\n",
    "    if not isinstance(text, str):\n",
    "        return []\n",
    "    # Lowercase dan bersihkan whitespace\n",
    "    text = text.lower()\n",
    "    text = re.sub(r'\\s+', ' ', text).strip()\n",
    "    # Hapus angka\n",
    "    text = re.sub(r'\\d+', '', text)\n",
    "    # Hapus tanda baca\n",
    "    text = text.translate(str.maketrans('', '', string.punctuation))\n",
    "    # Tokenisasi\n",
    "    tokens = word_tokenize(text)\n",
    "    # Hapus stopwords dan kata pendek (<=2)\n",
    "    tokens = [t for t in tokens if t not in stop_words and len(t) > 2]\n",
    "    return tokens"
   ]
  },
  {
   "cell_type": "code",
   "execution_count": 33,
   "id": "f52f9728",
   "metadata": {},
   "outputs": [],
   "source": [
    "def preprocess_lemmatization(text):\n",
    "    cleaned_tokens = basic_preprocess(text)  \n",
    "    if not cleaned_tokens:\n",
    "        return []\n",
    "    doc = nlp(\" \".join(cleaned_tokens))\n",
    "    lemmas = [token.lemma_ for token in doc if token.lemma_ not in stop_words and len(token.lemma_) > 2]\n",
    "    return lemmas\n"
   ]
  },
  {
   "cell_type": "code",
   "execution_count": 34,
   "id": "2da6c0ef",
   "metadata": {},
   "outputs": [],
   "source": [
    "# Path folder input cleaned abstracts\n",
    "cleaned_folder = Path('./../../data/cleaned')\n",
    "# Path folder output preprocessing lemmatization\n",
    "output_folder = Path('./../../data/preprocessing/lemmatization')\n",
    "output_folder.mkdir(parents=True, exist_ok=True)"
   ]
  },
  {
   "cell_type": "code",
   "execution_count": 35,
   "id": "0dead98d-1f62-447f-9ee2-3030cde9615e",
   "metadata": {},
   "outputs": [],
   "source": [
    "total_start_time = time.time()"
   ]
  },
  {
   "cell_type": "code",
   "execution_count": 25,
   "id": "40ff1cf2",
   "metadata": {},
   "outputs": [],
   "source": [
    "# List semua file di folder cleaned yang namanya diawali 'cleaned_abstracts_'\n",
    "files = [f for f in os.listdir(cleaned_folder) if f.startswith('cleaned_abstracts_') and f.endswith('.json')]"
   ]
  },
  {
   "cell_type": "code",
   "execution_count": 37,
   "id": "da215968-4e90-4b51-93e6-54a0f98a9b19",
   "metadata": {},
   "outputs": [
    {
     "name": "stdout",
     "output_type": "stream",
     "text": [
      "✅ Disimpan: 241 abstrak tahun 2015 -> ../../data/preprocessing/lemmatization/preprocessed_abstracts_lemmatization_2015.json\n",
      "⏱️ Waktu proses 2015: 4.79 detik\n",
      "✅ Disimpan: 121 abstrak tahun 2014 -> ../../data/preprocessing/lemmatization/preprocessed_abstracts_lemmatization_2014.json\n",
      "⏱️ Waktu proses 2014: 2.17 detik\n",
      "✅ Disimpan: 800 abstrak tahun 2025 -> ../../data/preprocessing/lemmatization/preprocessed_abstracts_lemmatization_2025.json\n",
      "⏱️ Waktu proses 2025: 16.11 detik\n",
      "✅ Disimpan: 6102 abstrak tahun 2018 -> ../../data/preprocessing/lemmatization/preprocessed_abstracts_lemmatization_2018.json\n",
      "⏱️ Waktu proses 2018: 99.99 detik\n",
      "✅ Disimpan: 10000 abstrak tahun 2019 -> ../../data/preprocessing/lemmatization/preprocessed_abstracts_lemmatization_2019.json\n",
      "⏱️ Waktu proses 2019: 167.25 detik\n",
      "✅ Disimpan: 6624 abstrak tahun 2023 -> ../../data/preprocessing/lemmatization/preprocessed_abstracts_lemmatization_2023.json\n",
      "⏱️ Waktu proses 2023: 122.98 detik\n",
      "✅ Disimpan: 66 abstrak tahun 2013 -> ../../data/preprocessing/lemmatization/preprocessed_abstracts_lemmatization_2013.json\n",
      "⏱️ Waktu proses 2013: 0.97 detik\n",
      "✅ Disimpan: 543 abstrak tahun 2016 -> ../../data/preprocessing/lemmatization/preprocessed_abstracts_lemmatization_2016.json\n",
      "⏱️ Waktu proses 2016: 8.75 detik\n",
      "✅ Disimpan: 10000 abstrak tahun 2020 -> ../../data/preprocessing/lemmatization/preprocessed_abstracts_lemmatization_2020.json\n",
      "⏱️ Waktu proses 2020: 172.12 detik\n",
      "✅ Disimpan: 55 abstrak tahun 2021 -> ../../data/preprocessing/lemmatization/preprocessed_abstracts_lemmatization_2021.json\n",
      "⏱️ Waktu proses 2021: 0.98 detik\n",
      "✅ Disimpan: 2810 abstrak tahun 2017 -> ../../data/preprocessing/lemmatization/preprocessed_abstracts_lemmatization_2017.json\n",
      "⏱️ Waktu proses 2017: 46.98 detik\n"
     ]
    }
   ],
   "source": [
    "for file_path in cleaned_folder.glob('cleaned_abstracts_*.json'):\n",
    "   # Ambil tahun dari nama file\n",
    "    try:\n",
    "        year = file_path.stem.split('_')[-1]\n",
    "    except IndexError:\n",
    "        print(f\"❌ Format nama file salah: {file_path.name}\")\n",
    "        continue\n",
    "\n",
    "    # Load file JSON\n",
    "    try:\n",
    "        with open(file_path, 'r', encoding='utf-8') as f:\n",
    "            data = json.load(f)\n",
    "    except Exception as e:\n",
    "        print(f\"❌ Gagal membaca file {file_path.name}: {e}\")\n",
    "        continue\n",
    "\n",
    "    processed_abstracts = []\n",
    "    start_time = time.time()\n",
    "\n",
    "    for idx, item in enumerate(data):\n",
    "        abs_text = item.get('abstract', '')\n",
    "        if isinstance(abs_text, str) and abs_text.strip():\n",
    "            try:\n",
    "                lemmas = preprocess_lemmatization(abs_text)\n",
    "                processed_text = \" \".join(lemmas)\n",
    "                processed_abstracts.append({\n",
    "                    \"year\": year,\n",
    "                    \"abstract\": processed_text\n",
    "                })\n",
    "            except Exception as e:\n",
    "                print(f\"⚠️ Error saat memproses abstrak #{idx + 1}: {e}\")\n",
    "\n",
    "    end_time = time.time()\n",
    "\n",
    "    # Simpan hasil\n",
    "    out_file = output_folder / f'preprocessed_abstracts_lemmatization_{year}.json'\n",
    "    try:\n",
    "        with open(out_file, 'w', encoding='utf-8') as fout:\n",
    "            json.dump(processed_abstracts, fout, indent=2)\n",
    "        print(f\"✅ Disimpan: {len(processed_abstracts)} abstrak tahun {year} -> {out_file}\")\n",
    "        print(f\"⏱️ Waktu proses {year}: {end_time - start_time:.2f} detik\")\n",
    "    except Exception as e:\n",
    "        print(f\"❌ Gagal menyimpan file {out_file}: {e}\")\n"
   ]
  },
  {
   "cell_type": "code",
   "execution_count": null,
   "id": "cd035594-04df-4ad5-a8f3-59dbaa9cf861",
   "metadata": {},
   "outputs": [],
   "source": []
  }
 ],
 "metadata": {
  "kernelspec": {
   "display_name": "Python (envtextminning)",
   "language": "python",
   "name": "envtextminning"
  },
  "language_info": {
   "codemirror_mode": {
    "name": "ipython",
    "version": 3
   },
   "file_extension": ".py",
   "mimetype": "text/x-python",
   "name": "python",
   "nbconvert_exporter": "python",
   "pygments_lexer": "ipython3",
   "version": "3.10.4"
  }
 },
 "nbformat": 4,
 "nbformat_minor": 5
}
