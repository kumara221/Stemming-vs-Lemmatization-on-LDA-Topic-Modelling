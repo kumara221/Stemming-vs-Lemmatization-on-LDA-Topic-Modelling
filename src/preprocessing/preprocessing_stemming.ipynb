{
 "cells": [
  {
   "cell_type": "code",
   "execution_count": 1,
   "id": "d95dae30",
   "metadata": {},
   "outputs": [],
   "source": [
    "import json\n",
    "from pathlib import Path\n",
    "from nltk.tokenize import word_tokenize\n",
    "from nltk.corpus import stopwords\n",
    "from nltk.stem import PorterStemmer\n",
    "import string\n",
    "import time"
   ]
  },
  {
   "cell_type": "code",
   "execution_count": 2,
   "id": "94c7a66c",
   "metadata": {},
   "outputs": [],
   "source": [
    "cleaned_folder = Path('./../../data/cleaned')\n",
    "output_folder = Path('./../../data/preprocessing/stemming')\n",
    "output_folder.mkdir(parents=True, exist_ok=True)"
   ]
  },
  {
   "cell_type": "code",
   "execution_count": 3,
   "id": "b158f613-7b3c-4f02-a918-f059d20b4e16",
   "metadata": {},
   "outputs": [
    {
     "name": "stderr",
     "output_type": "stream",
     "text": [
      "[nltk_data] Downloading package punkt_tab to Stemming-vs-\n",
      "[nltk_data]     Lemmatization-on-LDA-Topic-\n",
      "[nltk_data]     Modelling/envtextminning/lib/python3.10/site-\n",
      "[nltk_data]     packages/nltk_data...\n",
      "[nltk_data]   Package punkt_tab is already up-to-date!\n",
      "[nltk_data] Downloading package stopwords to Stemming-vs-\n",
      "[nltk_data]     Lemmatization-on-LDA-Topic-\n",
      "[nltk_data]     Modelling/envtextminning/lib/python3.10/site-\n",
      "[nltk_data]     packages/nltk_data...\n",
      "[nltk_data]   Package stopwords is already up-to-date!\n"
     ]
    },
    {
     "data": {
      "text/plain": [
       "True"
      ]
     },
     "execution_count": 3,
     "metadata": {},
     "output_type": "execute_result"
    }
   ],
   "source": [
    "import nltk\n",
    "from nltk.tokenize import word_tokenize\n",
    "\n",
    "# Tambahkan path ke resource lokal\n",
    "nltk.data.path.append('Stemming-vs-Lemmatization-on-LDA-Topic-Modelling/envtextminning/lib/python3.10/site-packages/nltk_data')\n",
    "\n",
    "# Download jika belum tersedia\n",
    "nltk.download('punkt_tab', download_dir='Stemming-vs-Lemmatization-on-LDA-Topic-Modelling/envtextminning/lib/python3.10/site-packages/nltk_data')\n",
    "nltk.download('stopwords', download_dir='Stemming-vs-Lemmatization-on-LDA-Topic-Modelling/envtextminning/lib/python3.10/site-packages/nltk_data')\n"
   ]
  },
  {
   "cell_type": "code",
   "execution_count": 4,
   "id": "58ec8100",
   "metadata": {},
   "outputs": [],
   "source": [
    "stemmer = PorterStemmer()\n",
    "stop_words = set(stopwords.words('english'))\n",
    "punct_table = str.maketrans('', '', string.punctuation)"
   ]
  },
  {
   "cell_type": "code",
   "execution_count": 5,
   "id": "65379b3c",
   "metadata": {},
   "outputs": [],
   "source": [
    "def preprocess_stemming(text):\n",
    "    tokens = word_tokenize(text.lower())\n",
    "    tokens = [t.translate(punct_table) for t in tokens]          # hapus tanda baca\n",
    "    tokens = [t for t in tokens if t.isalpha()]                  # hanya huruf\n",
    "    tokens = [t for t in tokens if t not in stop_words]          # hapus stopword\n",
    "    stems  = [stemmer.stem(t) for t in tokens]                   # stemming\n",
    "    return stems"
   ]
  },
  {
   "cell_type": "code",
   "execution_count": 6,
   "id": "245e435a",
   "metadata": {},
   "outputs": [
    {
     "name": "stdout",
     "output_type": "stream",
     "text": [
      "🔍 Processing file: cleaned_abstracts_2015.json\n",
      "✅ Saved 241 abstracts for year 2015 to ../../data/preprocessing/stemming/preprocessed_abstracts_stemming_2015.json\n",
      "⏱️ Waktu proses 2015: 1.75 detik\n",
      "\n",
      "🔍 Processing file: cleaned_abstracts_2014.json\n",
      "✅ Saved 121 abstracts for year 2014 to ../../data/preprocessing/stemming/preprocessed_abstracts_stemming_2014.json\n",
      "⏱️ Waktu proses 2014: 0.87 detik\n",
      "\n",
      "🔍 Processing file: cleaned_abstracts_2025.json\n",
      "✅ Saved 800 abstracts for year 2025 to ../../data/preprocessing/stemming/preprocessed_abstracts_stemming_2025.json\n",
      "⏱️ Waktu proses 2025: 6.91 detik\n",
      "\n",
      "🔍 Processing file: cleaned_abstracts_2018.json\n",
      "✅ Saved 6102 abstracts for year 2018 to ../../data/preprocessing/stemming/preprocessed_abstracts_stemming_2018.json\n",
      "⏱️ Waktu proses 2018: 46.22 detik\n",
      "\n",
      "🔍 Processing file: cleaned_abstracts_2019.json\n",
      "✅ Saved 10000 abstracts for year 2019 to ../../data/preprocessing/stemming/preprocessed_abstracts_stemming_2019.json\n",
      "⏱️ Waktu proses 2019: 77.91 detik\n",
      "\n",
      "🔍 Processing file: cleaned_abstracts_2023.json\n",
      "✅ Saved 6624 abstracts for year 2023 to ../../data/preprocessing/stemming/preprocessed_abstracts_stemming_2023.json\n",
      "⏱️ Waktu proses 2023: 51.64 detik\n",
      "\n",
      "🔍 Processing file: cleaned_abstracts_2013.json\n",
      "✅ Saved 66 abstracts for year 2013 to ../../data/preprocessing/stemming/preprocessed_abstracts_stemming_2013.json\n",
      "⏱️ Waktu proses 2013: 0.37 detik\n",
      "\n",
      "🔍 Processing file: cleaned_abstracts_2016.json\n",
      "✅ Saved 543 abstracts for year 2016 to ../../data/preprocessing/stemming/preprocessed_abstracts_stemming_2016.json\n",
      "⏱️ Waktu proses 2016: 3.48 detik\n",
      "\n",
      "🔍 Processing file: cleaned_abstracts_2020.json\n",
      "✅ Saved 10000 abstracts for year 2020 to ../../data/preprocessing/stemming/preprocessed_abstracts_stemming_2020.json\n",
      "⏱️ Waktu proses 2020: 68.64 detik\n",
      "\n",
      "🔍 Processing file: cleaned_abstracts_2021.json\n",
      "✅ Saved 55 abstracts for year 2021 to ../../data/preprocessing/stemming/preprocessed_abstracts_stemming_2021.json\n",
      "⏱️ Waktu proses 2021: 0.35 detik\n",
      "\n",
      "🔍 Processing file: cleaned_abstracts_2017.json\n",
      "✅ Saved 2810 abstracts for year 2017 to ../../data/preprocessing/stemming/preprocessed_abstracts_stemming_2017.json\n",
      "⏱️ Waktu proses 2017: 17.63 detik\n",
      "\n"
     ]
    }
   ],
   "source": [
    "# Loop semua file JSON cleaned abstracts\n",
    "for file_path in cleaned_folder.glob('cleaned_abstracts_*.json'):\n",
    "    print(f'🔍 Processing file: {file_path.name}')\n",
    "    \n",
    "    try:\n",
    "        year = file_path.stem.split('_')[-1]\n",
    "    except IndexError:\n",
    "        print(f\"⚠️  Skipping file {file_path.name} (invalid format)\")\n",
    "        continue\n",
    "\n",
    "    try:\n",
    "        with open(file_path, 'r', encoding='utf-8') as f:\n",
    "            data = json.load(f)\n",
    "    except Exception as e:\n",
    "        print(f\"❌ Error reading {file_path.name}: {e}\")\n",
    "        continue\n",
    "\n",
    "    processed_abstracts = []\n",
    "    start_time = time.time()\n",
    "    for item in data:\n",
    "        abs_text = item.get('abstract', '')\n",
    "        if isinstance(abs_text, str) and abs_text.strip():\n",
    "            try:\n",
    "                stems = preprocess_stemming(abs_text)\n",
    "                if isinstance(stems, list):\n",
    "                    processed_text = \" \".join(stems)\n",
    "                    processed_abstracts.append({\n",
    "                        \"year\": year,\n",
    "                        \"abstract\": processed_text\n",
    "                    })\n",
    "            except Exception as e:\n",
    "                print(f\"⚠️  Error processing abstract: {e}\")\n",
    "                continue\n",
    "                \n",
    "     # Simpan hasil\n",
    "    out_file = output_folder / f'preprocessed_abstracts_stemming_{year}.json'\n",
    "    try:\n",
    "        with open(out_file, 'w', encoding='utf-8') as fout:\n",
    "            json.dump(processed_abstracts, fout, indent=2)\n",
    "        elapsed = time.time() - start_time\n",
    "        print(f\"✅ Saved {len(processed_abstracts)} abstracts for year {year} to {out_file}\")\n",
    "        print(f\"⏱️ Waktu proses {year}: {elapsed:.2f} detik\\n\")\n",
    "    except Exception as e:\n",
    "        print(f\"❌ Error saving file {out_file}: {e}\")"
   ]
  },
  {
   "cell_type": "code",
   "execution_count": null,
   "id": "a5a70fbb-b052-4a11-b6dd-e7a12fe0eb5d",
   "metadata": {},
   "outputs": [],
   "source": []
  }
 ],
 "metadata": {
  "kernelspec": {
   "display_name": "Python (envtextminning)",
   "language": "python",
   "name": "envtextminning"
  },
  "language_info": {
   "codemirror_mode": {
    "name": "ipython",
    "version": 3
   },
   "file_extension": ".py",
   "mimetype": "text/x-python",
   "name": "python",
   "nbconvert_exporter": "python",
   "pygments_lexer": "ipython3",
   "version": "3.10.4"
  }
 },
 "nbformat": 4,
 "nbformat_minor": 5
}
